{
 "cells": [
  {
   "cell_type": "markdown",
   "metadata": {},
   "source": [
    "> You know, Apple Computers started in a garage, and we are starting in a condo. So we already have a leg up on Apple. - Pam Beesly\n"
   ]
  },
  {
   "cell_type": "markdown",
   "metadata": {},
   "source": [
    "Today started as peaceful morning in Scraton Pennsylvania. There has been a long time vacated position ever since Ryan was fired as VP.\n",
    "Everyone from the office just learnt that Charles Miner, previously worked at Saticoy Steel, is joining Dunder Mifflin as new VP.\n",
    "\n",
    "Let's add Charles to Dunder Mifflin's scim group.\n"
   ]
  },
  {
   "cell_type": "code",
   "execution_count": 22,
   "metadata": {},
   "outputs": [],
   "source": [
    "# First we need to import the scim client and configuration\n",
    "from sync_app.client import ClientConfiguration, SCIMClient\n",
    "\n",
    "# scim client configuration require server URL and access token.\n",
    "# The server URL is the base URL of the SCIM server.\n",
    "server_url = \"https://api.scim.dev/scim/v2/\"\n",
    "# The access token is the token that is used to authenticate the client to the SCIM server.\n",
    "# You can get the access token from the website\n",
    "# Visit https://scim.dev/apikey/ to get your token\n",
    "auth_token = \"ACCESS_CODE\"\n",
    "\n",
    "\n",
    "# Now we have everything we need to create a scim client configuration\n",
    "scim_dev_client_config = ClientConfiguration(\n",
    "    server_url=server_url, auth_token=auth_token\n",
    ")\n",
    "\n",
    "# Now we can create a scim client using the configuration\n",
    "scim_dev_client = SCIMClient(scim_dev_client_config)"
   ]
  },
  {
   "cell_type": "code",
   "execution_count": 23,
   "metadata": {},
   "outputs": [],
   "source": [
    "# This block of code will generate all the users and update it to remote SCIM server. You should not run this code more than once.\n",
    "# Otherwise you might get group name already exist error.\n",
    "# If you want, you could run this to delete the group.\n",
    "#\n",
    "from sync_app.client import Filter\n",
    "\n",
    "group_id = scim_dev_client.get_groups(\n",
    "    filter=Filter(filter='displayName eq \"Dunder Mifflin\"')\n",
    ").to_dict()[\"Resources\"][0][\"id\"]\n",
    "scim_dev_client.delete_group(group_id)\n",
    "#\n",
    "\n",
    "from scim_helper import course_setup\n",
    "\n",
    "# You can ignore this part for now, the crouse_setup function create new group and add bunch exist users to the group.\n",
    "dunder_mifflin_group_id, user_ids = course_setup(auth_token)"
   ]
  },
  {
   "cell_type": "code",
   "execution_count": 24,
   "metadata": {},
   "outputs": [
    {
     "name": "stdout",
     "output_type": "stream",
     "text": [
      "Group ID is the UUID for the group created by the course_setup helper function\n",
      "9b8a9bcf-3280-427f-9f7d-704b3fecfe10\n",
      "It also create a nice dictionary of user_id to user_name for the users added to the group.\n"
     ]
    },
    {
     "data": {
      "text/plain": [
       "{'Micheal Scott': '9b8a9bd0-103b-41a1-8a0f-e6f86265f972',\n",
       " 'Jim Halpert': '9b8a9bd0-f3b8-4fb2-b098-64b7937a1f16',\n",
       " 'Dwight Schrute': '9b8a9bd1-d6b5-4511-bbc8-406a453b7484',\n",
       " 'Pam Beesly': '9b8a9bd2-b0a6-4e46-90d7-7356c3d6bbfd',\n",
       " 'Ryan Howard': '9b8a9bd3-892a-40bf-8993-1cf71fbc6053',\n",
       " 'Andy Bernard': '9b8a9bd4-61c4-4c07-8e3a-20c5b7c69fbf',\n",
       " 'Kevin Malone': '9b8a9bd5-41e0-4a46-8971-4010849ff014',\n",
       " 'Oscar Martinez': '9b8a9bd6-25ad-4f3d-9748-d073186cda01',\n",
       " 'Angela Martin': '9b8a9bd7-04da-4100-bbf5-f42c9bcb555a',\n",
       " 'Stanley Hudson': '9b8a9bd7-e62c-4de8-9bc3-4ca406dc98e8',\n",
       " 'Phyllis Vance': '9b8a9bd8-c18d-4c18-afad-c152ed30e525',\n",
       " 'Meredith Palmer': '9b8a9bd9-9f4b-48b2-a413-0cc8fe27968f',\n",
       " 'Creed Bratton': '9b8a9bda-7fb8-4680-b386-cbc0676509c4',\n",
       " 'Kelly Kapoor': '9b8a9bdb-5c97-41c6-a403-78cfc60c8049',\n",
       " 'Toby Flenderson': '9b8a9bdc-3802-46af-a56c-864cc0b52ead'}"
      ]
     },
     "execution_count": 24,
     "metadata": {},
     "output_type": "execute_result"
    }
   ],
   "source": [
    "# You can take a look at the group_id and user_ids\n",
    "print(\"Group ID is the UUID for the group created by the course_setup helper function\")\n",
    "print(dunder_mifflin_group_id)\n",
    "print(\n",
    "    \"It also create a nice dictionary of user_id to user_name for the users added to the group.\"\n",
    ")\n",
    "user_ids"
   ]
  },
  {
   "cell_type": "markdown",
   "metadata": {},
   "source": [
    "Enough of buzy work, now let's create a new user object!\n",
    "\n",
    "Here is what User object required!\n",
    "\n",
    "```\n",
    "    def __init__(\n",
    "        self,\n",
    "        meta: ResourceMeta,\n",
    "        user_id: UUID,\n",
    "        displayName: Optional[str],\n",
    "        active: bool,\n",
    "        userName: str,\n",
    "        name: Optional[Name],\n",
    "        emails: Optional[Iterable[Email]],\n",
    "        groups: Optional[Iterable[ResourceRef]] = None,\n",
    "    ):\n",
    "```\n",
    "\n",
    "We can go over them one by one.\n"
   ]
  },
  {
   "cell_type": "markdown",
   "metadata": {},
   "source": [
    "The first thing we need is some meta data!\n",
    "ResourceMeta does provide create_meta function to create THE meta\n",
    "\n",
    "```\n",
    "def create_meta(resource_type: ResourceType, location: str) -> \"ResourceMeta\":\n",
    "```\n",
    "\n",
    "It requires the resource type and the resource URL\n",
    "There are five different type resource that exist\n",
    "\n",
    "- User\n",
    "- Group\n",
    "- ServiceProviderConfig\n",
    "- ResourceType\n",
    "- Schema\n",
    "\n",
    "Looks like the one we need right now is `User` because duh, we are creating a user object.\n",
    "\n",
    "But what the hack is location?\n",
    "Resource Location is the endpoint where a resource could be re-fetched from the same service prodiver.\n",
    "Since we (Duo) is storing the user, the location would be `https://duo.com/Users/<uuid>`\n"
   ]
  },
  {
   "cell_type": "code",
   "execution_count": 25,
   "metadata": {},
   "outputs": [],
   "source": [
    "from sync_app.scim.resource import ResourceMeta\n",
    "\n",
    "# We would also need some uuid\n",
    "from uuid import uuid5, NAMESPACE_X500\n",
    "\n",
    "# uuid5 is used to generate a unique identifier from a name and a namespace\n",
    "# We would use the NAMESPACE_X500 as the namespace\n",
    "# So we could use DN as the name to generate the uuid\n",
    "\n",
    "uuid = uuid5(NAMESPACE_X500, \"uid=Charles.Miner,DC=dundermifflin,DC=com\")\n",
    "\n",
    "meta = ResourceMeta.create_meta(\n",
    "    \"User\",\n",
    "    \"https://duo.local/Users/{}\".format(\n",
    "        str(uuid),\n",
    "    ),\n",
    ")"
   ]
  },
  {
   "cell_type": "markdown",
   "metadata": {},
   "source": [
    "Looking back on User Object\n",
    "\n",
    "```\n",
    "    def __init__(\n",
    "        self,\n",
    "        meta: ResourceMeta,\n",
    "        user_id: UUID,\n",
    "        displayName: Optional[str],\n",
    "        active: bool,\n",
    "        userName: str,\n",
    "        name: Optional[Name],\n",
    "        emails: Optional[Iterable[Email]],\n",
    "        groups: Optional[Iterable[ResourceRef]] = None,\n",
    "    ):\n",
    "```\n",
    "\n",
    "We actually killed two bird with one stone since meta require uuid.\n",
    "`DisplayName` is The name of the User, suitable for display to end-users. The name SHOULD be the full name of the User being described, if known. So it should be like `Charles Miner`\n",
    "`active` is A Boolean value indicating the User's administrative status. So `True` should be it.\n",
    "`userName` is Unique identifier for the User, typically used by the user to directly authenticate to the service provider. Each User MUST include a non-empty userName value. This identifier MUST be unique across the service provider's entire set of Users. REQUIRED. So `cminer` should be fine.\n",
    "\n",
    "`Name` is a werid one, because it contain some sub attribute.\n",
    "`Name` Object looks like this, it's all optional but we fill familyName and givenName easily.\n",
    "\n",
    "```\n",
    "@dataclass\n",
    "class Name:\n",
    "    formatted: Optional[str] = None\n",
    "    familyName: Optional[str] = None\n",
    "    givenName: Optional[str] = None\n",
    "```\n",
    "\n",
    "`emails` is also a object that contain subattribute.\n",
    "\n",
    "```\n",
    "@dataclass\n",
    "class Email:\n",
    "    value: Optional[str] = None\n",
    "    type: Optional[str] = None\n",
    "    primary: Optional[bool] = None\n",
    "    display: Optional[str] = None\n",
    "```\n",
    "\n",
    "`value` is email address\n",
    "`type` is for work/home/other/etc\n",
    "`primary` is if the email is the preferred one.\n",
    "`display` is the the thing make least sense, so we will skip that for now.\n",
    "\n",
    "`groups` is use set the group for the user, for now we are going to use the exist Dunder Mifflin Group!\n"
   ]
  },
  {
   "cell_type": "code",
   "execution_count": 26,
   "metadata": {},
   "outputs": [
    {
     "data": {
      "text/plain": [
       "{'schemas': ['urn:ietf:params:scim:schemas:core:2.0:User'],\n",
       " 'meta': {'resourceType': 'User',\n",
       "  'create': '2024-03-11T22:30:27+00:00',\n",
       "  'lastModified': '2024-03-11T22:30:27+00:00',\n",
       "  'location': 'https://api.scim.dev/scim/v2/Users/9b8a9bdd-1461-4e33-960f-b8150799ca36'},\n",
       " 'id': '9b8a9bdd-1461-4e33-960f-b8150799ca36',\n",
       " 'active': True,\n",
       " 'userName': 'cminer',\n",
       " 'emails': [{'value': 'CharlesMiner@dundermifflin.com',\n",
       "   'type': 'other',\n",
       "   'primary': True,\n",
       "   'display': None},\n",
       "  {'value': 'CharlesMiner@dundermifflin.com',\n",
       "   'type': 'work',\n",
       "   'primary': True,\n",
       "   'display': None}],\n",
       " 'name': {'formatted': 'Charles Miner',\n",
       "  'familyName': 'Miner',\n",
       "  'givenName': 'Charles'}}"
      ]
     },
     "execution_count": 26,
     "metadata": {},
     "output_type": "execute_result"
    }
   ],
   "source": [
    "# Now let's create a user!\n",
    "from sync_app.scim.user import User, Name, Email\n",
    "from sync_app.scim.resource import ResourceRef\n",
    "\n",
    "cminer = User(\n",
    "    meta=meta,\n",
    "    user_id=uuid,\n",
    "    displayName=\"Charles Miner\",\n",
    "    active=True,\n",
    "    userName=\"cminer\",\n",
    "    name=Name(formatted=\"Charles Miner\", familyName=\"Miner\", givenName=\"Charles\"),\n",
    "    emails=[\n",
    "        Email(\n",
    "            value=\"CharlesMiner@dundermifflin.com\",\n",
    "            type=\"work\",\n",
    "            primary=True,\n",
    "        )\n",
    "    ],\n",
    "    groups=[\n",
    "        ResourceRef(\n",
    "            ref=\"https://api.scim.dev/scim/v2/Group/{}\".format(dunder_mifflin_group_id),\n",
    "            value=dunder_mifflin_group_id,\n",
    "            display=\"Dunder Mifflin\",\n",
    "        )\n",
    "    ],\n",
    ")\n",
    "\n",
    "# Now we can try to push the user to the server!\n",
    "response = scim_dev_client.create_user(cminer)\n",
    "response.to_dict()"
   ]
  },
  {
   "cell_type": "code",
   "execution_count": 27,
   "metadata": {},
   "outputs": [
    {
     "data": {
      "text/plain": [
       "{'Micheal Scott': '9b8a9bd0-103b-41a1-8a0f-e6f86265f972',\n",
       " 'Jim Halpert': '9b8a9bd0-f3b8-4fb2-b098-64b7937a1f16',\n",
       " 'Dwight Schrute': '9b8a9bd1-d6b5-4511-bbc8-406a453b7484',\n",
       " 'Pam Beesly': '9b8a9bd2-b0a6-4e46-90d7-7356c3d6bbfd',\n",
       " 'Ryan Howard': '9b8a9bd3-892a-40bf-8993-1cf71fbc6053',\n",
       " 'Andy Bernard': '9b8a9bd4-61c4-4c07-8e3a-20c5b7c69fbf',\n",
       " 'Kevin Malone': '9b8a9bd5-41e0-4a46-8971-4010849ff014',\n",
       " 'Oscar Martinez': '9b8a9bd6-25ad-4f3d-9748-d073186cda01',\n",
       " 'Angela Martin': '9b8a9bd7-04da-4100-bbf5-f42c9bcb555a',\n",
       " 'Stanley Hudson': '9b8a9bd7-e62c-4de8-9bc3-4ca406dc98e8',\n",
       " 'Phyllis Vance': '9b8a9bd8-c18d-4c18-afad-c152ed30e525',\n",
       " 'Meredith Palmer': '9b8a9bd9-9f4b-48b2-a413-0cc8fe27968f',\n",
       " 'Creed Bratton': '9b8a9bda-7fb8-4680-b386-cbc0676509c4',\n",
       " 'Kelly Kapoor': '9b8a9bdb-5c97-41c6-a403-78cfc60c8049',\n",
       " 'Toby Flenderson': '9b8a9bdc-3802-46af-a56c-864cc0b52ead',\n",
       " 'Charles.Miner': '9b8a9bdd-1461-4e33-960f-b8150799ca36'}"
      ]
     },
     "execution_count": 27,
     "metadata": {},
     "output_type": "execute_result"
    }
   ],
   "source": [
    "# We should also keep track of the newly created user to our user_ids dictionary\n",
    "user_ids[\"Charles.Miner\"] = response.to_dict()[\"id\"]\n",
    "user_ids"
   ]
  },
  {
   "cell_type": "markdown",
   "metadata": {},
   "source": [
    "Now we have Charles in the system, Charles the new VP finally able to access his new laptop and all customer information for the first day!\n"
   ]
  },
  {
   "cell_type": "markdown",
   "metadata": {},
   "source": [
    "Even Micheal had good time with Charles in the beginning, the tension between Micheal and Charles is so thich you can pratical cut it with a butter knife.\n",
    "\n",
    "This result Micheal put his 2 week notice by the end of day. Micheal approved multiple Dunder Mifflin employee to join Micheal to his new paper company!\n"
   ]
  },
  {
   "cell_type": "markdown",
   "metadata": {},
   "source": [
    "After goofy around for 2 week, the final day at Dunder Mifflin for Micheal has arrived. There is no one willing to quit the job at Dunder Mifflin and join Micheal for his new adventure.\n"
   ]
  },
  {
   "cell_type": "markdown",
   "metadata": {},
   "source": [
    "Let's remove Micheal from the Dunder Mifflin group, so he can no long access inportant company secrets.\n"
   ]
  },
  {
   "cell_type": "markdown",
   "metadata": {},
   "source": [
    "#### SCIM knowledge: _When you ask scim server to delete an user, scim server might not actual delete the user. But will not return the user information when you ask about the user again. So it might be a better idea to soft delete an user to make it inactive._\n"
   ]
  },
  {
   "cell_type": "code",
   "execution_count": 28,
   "metadata": {},
   "outputs": [
    {
     "data": {
      "text/plain": [
       "{'schemas': ['urn:ietf:params:scim:schemas:core:2.0:User'],\n",
       " 'meta': {'resourceType': 'User',\n",
       "  'create': '2024-03-11T22:30:18+00:00',\n",
       "  'lastModified': '2024-03-11T22:30:28+00:00',\n",
       "  'location': 'https://api.scim.dev/scim/v2/Users/9b8a9bd0-103b-41a1-8a0f-e6f86265f972'},\n",
       " 'id': '9b8a9bd0-103b-41a1-8a0f-e6f86265f972',\n",
       " 'active': False,\n",
       " 'userName': 'mscott',\n",
       " 'emails': [{'value': 'micheal.scott@dundermifflin.com',\n",
       "   'type': 'other',\n",
       "   'primary': True,\n",
       "   'display': None},\n",
       "  {'value': 'micheal.scott@dundermifflin.com',\n",
       "   'type': 'work',\n",
       "   'primary': True,\n",
       "   'display': None}],\n",
       " 'name': {'formatted': None, 'familyName': 'Scott', 'givenName': 'Micheal'}}"
      ]
     },
     "execution_count": 28,
     "metadata": {},
     "output_type": "execute_result"
    }
   ],
   "source": [
    "# Lets first deactive Micheal's status\n",
    "from sync_app.scim.patchop import PatchOp, Operation\n",
    "\n",
    "deactive_patch_op = PatchOp(\n",
    "    operations=[Operation(op=\"replace\", path=\"active\", value=False)]\n",
    ")\n",
    "\n",
    "response = scim_dev_client.update_user(\n",
    "    id=user_ids[\"Micheal Scott\"], ops=deactive_patch_op\n",
    ")\n",
    "response.to_dict()"
   ]
  },
  {
   "cell_type": "code",
   "execution_count": 29,
   "metadata": {},
   "outputs": [
    {
     "data": {
      "text/plain": [
       "{'schemas': ['urn:ietf:params:scim:schemas:core:2.0:Group'],\n",
       " 'meta': {'resourceType': 'Group',\n",
       "  'create': '2024-03-11T22:30:18+00:00',\n",
       "  'lastModified': '2024-03-11T22:30:18+00:00',\n",
       "  'location': 'https://api.scim.dev/scim/v2/Groups/9b8a9bcf-3280-427f-9f7d-704b3fecfe10'},\n",
       " 'id': '9b8a9bcf-3280-427f-9f7d-704b3fecfe10',\n",
       " 'displayName': 'Dunder Mifflin',\n",
       " 'name': 'Dunder Mifflin'}"
      ]
     },
     "execution_count": 29,
     "metadata": {},
     "output_type": "execute_result"
    }
   ],
   "source": [
    "# To remove user from group we need to make a patch call to the group API\n",
    "# The API take a patch ops json object. So lets make that first\n",
    "from sync_app.scim.patchop import PatchOp, Operation\n",
    "\n",
    "remove_patch_op = PatchOp(\n",
    "    operations=[Operation(op=\"remove\", path=\"members\", value=user_ids[\"Micheal Scott\"])]\n",
    ")\n",
    "\n",
    "response = scim_dev_client.update_group(\n",
    "    id=dunder_mifflin_group_id,\n",
    "    ops=remove_patch_op,\n",
    ")\n",
    "\n",
    "response.to_dict()"
   ]
  },
  {
   "cell_type": "markdown",
   "metadata": {},
   "source": [
    "> Confidence-- it's the food of the wise man, but the liquor of the fool. --Vikram\n"
   ]
  },
  {
   "cell_type": "markdown",
   "metadata": {},
   "source": [
    "Oh no, Micheal Scott Paper Company just started.\n",
    "We need to do some scim work to keep the scim record up to dates.\n",
    "Here are list of things we need to.\n",
    "\n",
    "- Create a new group called Micheal Scott Paper Company.\n",
    "- Add Micheal, Pam, Ryan to the new Group.\n",
    "- Deactive Pam from Dunder Mifflin group since she is no long working for Dunder Mifflin.\n"
   ]
  },
  {
   "cell_type": "code",
   "execution_count": 30,
   "metadata": {},
   "outputs": [
    {
     "data": {
      "text/plain": [
       "{'schemas': ['urn:ietf:params:scim:schemas:core:2.0:Group'],\n",
       " 'meta': {'resourceType': 'Group',\n",
       "  'create': '2024-03-11T22:30:30+00:00',\n",
       "  'lastModified': '2024-03-11T22:30:30+00:00',\n",
       "  'location': 'https://api.scim.dev/scim/v2/Groups/9b8a9be1-6552-43b4-9786-0de6fd418d8a'},\n",
       " 'id': '9b8a9be1-6552-43b4-9786-0de6fd418d8a',\n",
       " 'displayName': 'Micheal Scott Paper Company',\n",
       " 'name': 'Micheal Scott Paper Company'}"
      ]
     },
     "execution_count": 30,
     "metadata": {},
     "output_type": "execute_result"
    }
   ],
   "source": [
    "# Similar to before, this block of code is one time use only.\n",
    "# If you want to run this code again, you should delete the group first.\n",
    "#\n",
    "from sync_app.client import Filter\n",
    "\n",
    "group_id = scim_dev_client.get_groups(\n",
    "    filter=Filter(filter='displayName eq \"Micheal Scott Paper Company\"')\n",
    ").to_dict()[\"Resources\"][0][\"id\"]\n",
    "scim_dev_client.delete_group(group_id)\n",
    "\n",
    "\n",
    "# Create a new group\n",
    "from sync_app.scim.group import Group\n",
    "from sync_app.scim.resource import ResourceMeta\n",
    "from uuid import uuid5, NAMESPACE_X500\n",
    "\n",
    "micheal_scott_paper_company = Group(\n",
    "    displayName=\"Micheal Scott Paper Company\",\n",
    "    group_id=uuid5(NAMESPACE_X500, \"cn=MichealScott,DC=PaperCompany,DC=com\"),\n",
    "    meta=ResourceMeta.create_meta(\n",
    "        \"Group\",\n",
    "        \"https://duo.local/Groups/{}\".format(\n",
    "            uuid5(NAMESPACE_X500, \"cn=MichealScott,DC=PaperCompany,DC=com\")\n",
    "        ),\n",
    "    ),\n",
    ")\n",
    "\n",
    "response = scim_dev_client.create_group(micheal_scott_paper_company)\n",
    "\n",
    "micheal_scott_paper_company_id = response.to_dict()[\"id\"]\n",
    "\n",
    "response.to_dict()"
   ]
  },
  {
   "cell_type": "code",
   "execution_count": 31,
   "metadata": {},
   "outputs": [
    {
     "data": {
      "text/plain": [
       "{'schemas': ['urn:ietf:params:scim:schemas:core:2.0:Group'],\n",
       " 'meta': {'resourceType': 'Group',\n",
       "  'create': '2024-03-11T22:30:30+00:00',\n",
       "  'lastModified': '2024-03-11T22:30:30+00:00',\n",
       "  'location': 'https://api.scim.dev/scim/v2/Groups/9b8a9be1-6552-43b4-9786-0de6fd418d8a'},\n",
       " 'id': '9b8a9be1-6552-43b4-9786-0de6fd418d8a',\n",
       " 'displayName': 'Micheal Scott Paper Company',\n",
       " 'name': 'Micheal Scott Paper Company'}"
      ]
     },
     "execution_count": 31,
     "metadata": {},
     "output_type": "execute_result"
    }
   ],
   "source": [
    "# Now let's try to do multiple operations in one patch call\n",
    "# Let's create a patch operation to add all three people to the new group\n",
    "from sync_app.scim.patchop import PatchOp, Operation\n",
    "\n",
    "add_three_peope_op = PatchOp(\n",
    "    operations=[\n",
    "        Operation(\n",
    "            op=\"add\",\n",
    "            path=\"members\",\n",
    "            value=[\n",
    "                {\"value\": user_ids[\"Micheal Scott\"]},\n",
    "                {\"value\": user_ids[\"Pam Beesly\"]},\n",
    "                {\"value\": user_ids[\"Ryan Howard\"]},\n",
    "            ],\n",
    "        )\n",
    "    ]\n",
    ")\n",
    "\n",
    "response = scim_dev_client.update_group(\n",
    "    id=micheal_scott_paper_company_id,\n",
    "    ops=add_three_peope_op,\n",
    ")\n",
    "\n",
    "response.to_dict()"
   ]
  },
  {
   "cell_type": "code",
   "execution_count": 32,
   "metadata": {},
   "outputs": [
    {
     "data": {
      "text/plain": [
       "{'schemas': ['urn:ietf:params:scim:schemas:core:2.0:Group'],\n",
       " 'meta': {'resourceType': 'Group',\n",
       "  'create': '2024-03-11T22:30:18+00:00',\n",
       "  'lastModified': '2024-03-11T22:30:18+00:00',\n",
       "  'location': 'https://api.scim.dev/scim/v2/Groups/9b8a9bcf-3280-427f-9f7d-704b3fecfe10'},\n",
       " 'id': '9b8a9bcf-3280-427f-9f7d-704b3fecfe10',\n",
       " 'displayName': 'Dunder Mifflin',\n",
       " 'name': 'Dunder Mifflin'}"
      ]
     },
     "execution_count": 32,
     "metadata": {},
     "output_type": "execute_result"
    }
   ],
   "source": [
    "# Now let's deactive Pam from dunder mifflin group\n",
    "# We have done the similar thing for Micheal Scott before.\n",
    "from sync_app.scim.patchop import PatchOp, Operation\n",
    "\n",
    "remove_patch_op = PatchOp(\n",
    "    operations=[\n",
    "        Operation(op=\"remove\", path=\"members\", value=user_ids[\"Pam Beesly\"]),\n",
    "        Operation(op=\"remove\", path=\"members\", value=user_ids[\"Ryan Howard\"]),\n",
    "    ]\n",
    ")\n",
    "\n",
    "response = scim_dev_client.update_group(\n",
    "    id=dunder_mifflin_group_id,\n",
    "    ops=remove_patch_op,\n",
    ")\n",
    "\n",
    "response.to_dict()"
   ]
  },
  {
   "cell_type": "markdown",
   "metadata": {},
   "source": [
    "Now we have created the group and populated some users in the group. Let's verify we have done everything correctly.\n",
    "There are mutiple ways we can group information.\n"
   ]
  },
  {
   "cell_type": "code",
   "execution_count": 33,
   "metadata": {},
   "outputs": [
    {
     "data": {
      "text/plain": [
       "{'schemas': ['urn:ietf:params:scim:schemas:core:2.0:Group'],\n",
       " 'meta': {'resourceType': 'Group',\n",
       "  'create': '2024-03-11T22:30:30+00:00',\n",
       "  'lastModified': '2024-03-11T22:30:30+00:00',\n",
       "  'location': 'https://api.scim.dev/scim/v2/Groups/9b8a9be1-6552-43b4-9786-0de6fd418d8a'},\n",
       " 'id': '9b8a9be1-6552-43b4-9786-0de6fd418d8a',\n",
       " 'displayName': 'Micheal Scott Paper Company',\n",
       " 'name': 'Micheal Scott Paper Company'}"
      ]
     },
     "execution_count": 33,
     "metadata": {},
     "output_type": "execute_result"
    }
   ],
   "source": [
    "# The esiast way to get a group or user is to use the get_user or get_group method along with the id\n",
    "\n",
    "# For example, this is how you get the original Dunder Mifflin group\n",
    "\n",
    "response = scim_dev_client.get_group(micheal_scott_paper_company_id)\n",
    "\n",
    "response.to_dict()"
   ]
  },
  {
   "cell_type": "code",
   "execution_count": 34,
   "metadata": {},
   "outputs": [
    {
     "data": {
      "text/plain": [
       "{'schemas': ['urn:ietf:params:scim:api:messages:2.0:ListResponse'],\n",
       " 'totalResults': 1,\n",
       " 'Resources': [{'schemas': ['urn:ietf:params:scim:schemas:core:2.0:Group'],\n",
       "   'meta': {'resourceType': 'Group',\n",
       "    'create': '2024-03-11T22:30:18+00:00',\n",
       "    'lastModified': '2024-03-11T22:30:18+00:00',\n",
       "    'location': 'https://api.scim.dev/scim/v2/Groups/9b8a9bcf-3280-427f-9f7d-704b3fecfe10'},\n",
       "   'id': '9b8a9bcf-3280-427f-9f7d-704b3fecfe10',\n",
       "   'displayName': 'Dunder Mifflin',\n",
       "   'name': 'Dunder Mifflin'}],\n",
       " 'itemsPerPage': 1,\n",
       " 'startIndex': 1}"
      ]
     },
     "execution_count": 34,
     "metadata": {},
     "output_type": "execute_result"
    }
   ],
   "source": [
    "# But it might be really hard to track the id of the user or group you want to get.\n",
    "# Or you lost the id of the user or group you want to get.\n",
    "# You could also use filter to filter the user or group you want to get.\n",
    "# Now let's try to get the user we just created but with filter.\n",
    "\n",
    "# First we need to create a new filter\n",
    "from sync_app.client import Filter\n",
    "\n",
    "filter = Filter(filter='displayName eq \"Dunder Mifflin\"')\n",
    "response = scim_dev_client.get_groups(filter=filter)\n",
    "\n",
    "response.to_dict()"
   ]
  },
  {
   "cell_type": "code",
   "execution_count": 35,
   "metadata": {},
   "outputs": [
    {
     "data": {
      "text/plain": [
       "{'schemas': ['urn:ietf:params:scim:schemas:core:2.0:Group'],\n",
       " 'meta': {'resourceType': 'Group',\n",
       "  'create': '2024-03-11T22:30:30+00:00',\n",
       "  'lastModified': '2024-03-11T22:30:30+00:00',\n",
       "  'location': 'https://api.scim.dev/scim/v2/Groups/9b8a9be1-6552-43b4-9786-0de6fd418d8a'},\n",
       " 'id': '9b8a9be1-6552-43b4-9786-0de6fd418d8a',\n",
       " 'displayName': 'Micheal Scott Paper Company',\n",
       " 'name': 'Micheal Scott Paper Company',\n",
       " 'members': [{'$ref': 'https://api.scim.dev/scim/v2/Users/9b8a9bd0-103b-41a1-8a0f-e6f86265f972',\n",
       "   'value': '9b8a9bd0-103b-41a1-8a0f-e6f86265f972',\n",
       "   'display': 'mscott'},\n",
       "  {'$ref': 'https://api.scim.dev/scim/v2/Users/9b8a9bd2-b0a6-4e46-90d7-7356c3d6bbfd',\n",
       "   'value': '9b8a9bd2-b0a6-4e46-90d7-7356c3d6bbfd',\n",
       "   'display': 'pbeesly'},\n",
       "  {'$ref': 'https://api.scim.dev/scim/v2/Users/9b8a9bd3-892a-40bf-8993-1cf71fbc6053',\n",
       "   'value': '9b8a9bd3-892a-40bf-8993-1cf71fbc6053',\n",
       "   'display': 'rhoward'}]}"
      ]
     },
     "execution_count": 35,
     "metadata": {},
     "output_type": "execute_result"
    }
   ],
   "source": [
    "# The response from get_groups does not contain all the information about the group.\n",
    "# You can add attribute that you tell server on what attribute you want to get.\n",
    "response = scim_dev_client.get_group(\n",
    "    micheal_scott_paper_company_id, attributes=[\"members\"]\n",
    ")\n",
    "response.to_dict()"
   ]
  },
  {
   "cell_type": "code",
   "execution_count": 36,
   "metadata": {},
   "outputs": [
    {
     "data": {
      "text/plain": [
       "{'schemas': ['urn:ietf:params:scim:api:messages:2.0:ListResponse'],\n",
       " 'totalResults': 3,\n",
       " 'Resources': [{'schemas': ['urn:ietf:params:scim:schemas:core:2.0:User'],\n",
       "   'meta': {'resourceType': 'User',\n",
       "    'create': '2024-03-11T22:30:21+00:00',\n",
       "    'lastModified': '2024-03-11T22:30:21+00:00',\n",
       "    'location': 'https://api.scim.dev/scim/v2/Users/9b8a9bd3-892a-40bf-8993-1cf71fbc6053'},\n",
       "   'id': '9b8a9bd3-892a-40bf-8993-1cf71fbc6053',\n",
       "   'active': True,\n",
       "   'userName': 'rhoward',\n",
       "   'emails': [{'value': 'ryan.howard@dundermifflin.com',\n",
       "     'type': 'other',\n",
       "     'primary': True,\n",
       "     'display': None},\n",
       "    {'value': 'ryan.howard@dundermifflin.com',\n",
       "     'type': 'work',\n",
       "     'primary': True,\n",
       "     'display': None}],\n",
       "   'name': {'formatted': None, 'familyName': 'Howard', 'givenName': 'Ryan'}},\n",
       "  {'schemas': ['urn:ietf:params:scim:schemas:core:2.0:User'],\n",
       "   'meta': {'resourceType': 'User',\n",
       "    'create': '2024-03-11T22:30:20+00:00',\n",
       "    'lastModified': '2024-03-11T22:30:20+00:00',\n",
       "    'location': 'https://api.scim.dev/scim/v2/Users/9b8a9bd2-b0a6-4e46-90d7-7356c3d6bbfd'},\n",
       "   'id': '9b8a9bd2-b0a6-4e46-90d7-7356c3d6bbfd',\n",
       "   'active': True,\n",
       "   'userName': 'pbeesly',\n",
       "   'emails': [{'value': 'pam.beesly@dundermifflin.com',\n",
       "     'type': 'other',\n",
       "     'primary': True,\n",
       "     'display': None},\n",
       "    {'value': 'pam.beesly@dundermifflin.com',\n",
       "     'type': 'work',\n",
       "     'primary': True,\n",
       "     'display': None}],\n",
       "   'name': {'formatted': None, 'familyName': 'Beesly', 'givenName': 'Pam'}},\n",
       "  {'schemas': ['urn:ietf:params:scim:schemas:core:2.0:User'],\n",
       "   'meta': {'resourceType': 'User',\n",
       "    'create': '2024-03-11T22:30:18+00:00',\n",
       "    'lastModified': '2024-03-11T22:30:28+00:00',\n",
       "    'location': 'https://api.scim.dev/scim/v2/Users/9b8a9bd0-103b-41a1-8a0f-e6f86265f972'},\n",
       "   'id': '9b8a9bd0-103b-41a1-8a0f-e6f86265f972',\n",
       "   'active': False,\n",
       "   'userName': 'mscott',\n",
       "   'emails': [{'value': 'micheal.scott@dundermifflin.com',\n",
       "     'type': 'other',\n",
       "     'primary': True,\n",
       "     'display': None},\n",
       "    {'value': 'micheal.scott@dundermifflin.com',\n",
       "     'type': 'work',\n",
       "     'primary': True,\n",
       "     'display': None}],\n",
       "   'name': {'formatted': None,\n",
       "    'familyName': 'Scott',\n",
       "    'givenName': 'Micheal'}}],\n",
       " 'itemsPerPage': 3,\n",
       " 'startIndex': 1}"
      ]
     },
     "execution_count": 36,
     "metadata": {},
     "output_type": "execute_result"
    }
   ],
   "source": [
    "# You could also get the same result if you want to use user endpoint instead groups endpoint.\n",
    "\n",
    "from sync_app.client import Filter\n",
    "\n",
    "filter = Filter(filter='groups.value eq \"{}\"'.format(micheal_scott_paper_company_id))\n",
    "response = scim_dev_client.get_users(filter=filter)\n",
    "response.to_dict()"
   ]
  },
  {
   "cell_type": "markdown",
   "metadata": {},
   "source": [
    "#### SCIM knowledge: _You could query user attribute too!_\n"
   ]
  },
  {
   "cell_type": "markdown",
   "metadata": {},
   "source": [
    "Looks like we also should update their emails! Let's do that next.\n"
   ]
  },
  {
   "cell_type": "code",
   "execution_count": 37,
   "metadata": {},
   "outputs": [
    {
     "data": {
      "text/plain": [
       "{'schemas': ['urn:ietf:params:scim:schemas:core:2.0:User'],\n",
       " 'meta': {'resourceType': 'User',\n",
       "  'create': '2024-03-11T22:30:18+00:00',\n",
       "  'lastModified': '2024-03-11T22:30:34+00:00',\n",
       "  'location': 'https://api.scim.dev/scim/v2/Users/9b8a9bd0-103b-41a1-8a0f-e6f86265f972'},\n",
       " 'id': '9b8a9bd0-103b-41a1-8a0f-e6f86265f972',\n",
       " 'active': False,\n",
       " 'userName': 'mscott',\n",
       " 'emails': [{'value': 'micheal.scott@michealscott.com',\n",
       "   'type': 'other',\n",
       "   'primary': True,\n",
       "   'display': None},\n",
       "  {'value': 'micheal.scott@michealscott.com',\n",
       "   'type': 'work',\n",
       "   'primary': True,\n",
       "   'display': None}],\n",
       " 'name': {'formatted': None, 'familyName': 'Scott', 'givenName': 'Micheal'}}"
      ]
     },
     "execution_count": 37,
     "metadata": {},
     "output_type": "execute_result"
    }
   ],
   "source": [
    "from sync_app.scim.patchop import PatchOp, Operation\n",
    "\n",
    "update_patch_op = PatchOp(\n",
    "    operations=[\n",
    "        Operation(\n",
    "            op=\"replace\", path=\"emails.value\", value=\"micheal.scott@michealscott.com\"\n",
    "        ),\n",
    "    ]\n",
    ")\n",
    "\n",
    "response = scim_dev_client.update_user(\n",
    "    id=user_ids[\"Micheal Scott\"],\n",
    "    ops=update_patch_op,\n",
    ")\n",
    "\n",
    "response.to_dict()"
   ]
  },
  {
   "cell_type": "code",
   "execution_count": 38,
   "metadata": {},
   "outputs": [
    {
     "data": {
      "text/plain": [
       "{'schemas': ['urn:ietf:params:scim:schemas:core:2.0:User'],\n",
       " 'meta': {'resourceType': 'User',\n",
       "  'create': '2024-03-11T22:30:20+00:00',\n",
       "  'lastModified': '2024-03-11T22:30:34+00:00',\n",
       "  'location': 'https://api.scim.dev/scim/v2/Users/9b8a9bd2-b0a6-4e46-90d7-7356c3d6bbfd'},\n",
       " 'id': '9b8a9bd2-b0a6-4e46-90d7-7356c3d6bbfd',\n",
       " 'active': True,\n",
       " 'userName': 'pbeesly',\n",
       " 'emails': [{'value': 'pam.beesly@michealscott.com',\n",
       "   'type': 'other',\n",
       "   'primary': True,\n",
       "   'display': None},\n",
       "  {'value': 'pam.beesly@michealscott.com',\n",
       "   'type': 'work',\n",
       "   'primary': True,\n",
       "   'display': None}],\n",
       " 'name': {'formatted': None, 'familyName': 'Beesly', 'givenName': 'Pam'}}"
      ]
     },
     "execution_count": 38,
     "metadata": {},
     "output_type": "execute_result"
    }
   ],
   "source": [
    "from sync_app.scim.patchop import PatchOp, Operation\n",
    "\n",
    "update_patch_op = PatchOp(\n",
    "    operations=[\n",
    "        Operation(\n",
    "            op=\"replace\", path=\"emails.value\", value=\"pam.beesly@michealscott.com\"\n",
    "        ),\n",
    "    ]\n",
    ")\n",
    "\n",
    "response = scim_dev_client.update_user(\n",
    "    id=user_ids[\"Pam Beesly\"],\n",
    "    ops=update_patch_op,\n",
    ")\n",
    "\n",
    "response.to_dict()"
   ]
  },
  {
   "cell_type": "code",
   "execution_count": 39,
   "metadata": {},
   "outputs": [
    {
     "data": {
      "text/plain": [
       "{'schemas': ['urn:ietf:params:scim:schemas:core:2.0:User'],\n",
       " 'meta': {'resourceType': 'User',\n",
       "  'create': '2024-03-11T22:30:21+00:00',\n",
       "  'lastModified': '2024-03-11T22:30:35+00:00',\n",
       "  'location': 'https://api.scim.dev/scim/v2/Users/9b8a9bd3-892a-40bf-8993-1cf71fbc6053'},\n",
       " 'id': '9b8a9bd3-892a-40bf-8993-1cf71fbc6053',\n",
       " 'active': True,\n",
       " 'userName': 'rhoward',\n",
       " 'emails': [{'value': 'ryan.howard@michealscott.com',\n",
       "   'type': 'other',\n",
       "   'primary': True,\n",
       "   'display': None},\n",
       "  {'value': 'ryan.howard@michealscott.com',\n",
       "   'type': 'work',\n",
       "   'primary': True,\n",
       "   'display': None}],\n",
       " 'name': {'formatted': None, 'familyName': 'Howard', 'givenName': 'Ryan'}}"
      ]
     },
     "execution_count": 39,
     "metadata": {},
     "output_type": "execute_result"
    }
   ],
   "source": [
    "from sync_app.scim.patchop import PatchOp, Operation\n",
    "\n",
    "update_patch_op = PatchOp(\n",
    "    operations=[\n",
    "        Operation(\n",
    "            op=\"replace\", path=\"emails.value\", value=\"ryan.howard@michealscott.com\"\n",
    "        ),\n",
    "    ]\n",
    ")\n",
    "\n",
    "response = scim_dev_client.update_user(\n",
    "    id=user_ids[\"Ryan Howard\"],\n",
    "    ops=update_patch_op,\n",
    ")\n",
    "\n",
    "response.to_dict()"
   ]
  },
  {
   "cell_type": "markdown",
   "metadata": {},
   "source": [
    "#### Extra scim knowledges:\n",
    "\n",
    "- You could also uses `PUT` calls to replace exist user and group. So instead of update one attribute, you will replace entire entry with new user/group. The main benefit for `PUT` call is you could save the same UUID.\n",
    "- ... (more to come)\n"
   ]
  },
  {
   "cell_type": "markdown",
   "metadata": {},
   "source": [
    "WooHoo! Now our job is done! Feel free to try more operition!\n"
   ]
  }
 ],
 "metadata": {
  "kernelspec": {
   "display_name": "Python 3",
   "language": "python",
   "name": "python3"
  },
  "language_info": {
   "codemirror_mode": {
    "name": "ipython",
    "version": 3
   },
   "file_extension": ".py",
   "mimetype": "text/x-python",
   "name": "python",
   "nbconvert_exporter": "python",
   "pygments_lexer": "ipython3",
   "version": "3.11.7"
  }
 },
 "nbformat": 4,
 "nbformat_minor": 2
}
