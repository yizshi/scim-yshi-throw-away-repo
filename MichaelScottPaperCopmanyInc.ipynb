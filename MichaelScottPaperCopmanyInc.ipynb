{
 "cells": [
  {
   "cell_type": "markdown",
   "metadata": {},
   "source": [
    "> You know, Apple Computers started in a garage, and we are starting in a condo. So we already have a leg up on Apple. - Pam Beesly\n"
   ]
  },
  {
   "cell_type": "markdown",
   "metadata": {},
   "source": [
    "Today started as peaceful morning in Scraton Pennsylvania. There has been a long time vacated position ever since Ryan was fired as VP.\n",
    "Everyone from the office just learnt that Charles Miner, previously worked at Saticoy Steel, is joining Dunder Mifflin as new VP.\n",
    "\n",
    "Let's add Charles to Dunder Mifflin's scim group.\n"
   ]
  },
  {
   "cell_type": "code",
   "execution_count": null,
   "metadata": {},
   "outputs": [],
   "source": [
    "# First we need to import the scim client and configuration\n",
    "from sync_app.client import ClientConfiguration, SCIMClient\n",
    "\n",
    "# scim client configuration require server URL and access token.\n",
    "# The server URL is the base URL of the SCIM server.\n",
    "server_url = \"https://api.scim.dev/scim/v2/\"\n",
    "# The access token is the token that is used to authenticate the client to the SCIM server.\n",
    "# You can get the access token from the website\n",
    "# Visit https://scim.dev/apikey/ to get your token\n",
    "auth_token = \"YOUR_ACCESS_CODE\"\n",
    "\n",
    "\n",
    "# Now we have everything we need to create a scim client configuration\n",
    "scim_dev_client_config = ClientConfiguration(\n",
    "    server_url=server_url, auth_token=auth_token\n",
    ")\n",
    "\n",
    "# Now we can create a scim client using the configuration\n",
    "scim_dev_client = SCIMClient(scim_dev_client_config)"
   ]
  },
  {
   "cell_type": "code",
   "execution_count": 12,
   "metadata": {},
   "outputs": [],
   "source": [
    "# This block of code will generate all the users and update it to remote SCIM server. You should not run this code more than once.\n",
    "# Otherwise you might get group name already exist error.\n",
    "# If you want, you could run this to delete the group.\n",
    "#\n",
    "# scim_dev_client.delete_group(\"9b806eaa-4455-485e-a4cf-98714934dc5a\")\n",
    "#\n",
    "\n",
    "from scim_helper import course_setup\n",
    "\n",
    "# You can ignore this part for now, the crouse_setup function create new group and add bunch exist users to the group.\n",
    "dunder_mifflin_group_id, user_ids = course_setup(auth_token)"
   ]
  },
  {
   "cell_type": "code",
   "execution_count": 14,
   "metadata": {},
   "outputs": [
    {
     "name": "stdout",
     "output_type": "stream",
     "text": [
      "Group ID is the UUID for the group created by the course_setup helper function\n",
      "9b8a54c0-3a94-4c6a-a089-359dd95f9c67\n",
      "It also create a nice dictionary of user_id to user_name for the users added to the group.\n"
     ]
    },
    {
     "data": {
      "text/plain": [
       "{'Micheal Scott': '9b8a54c1-182b-4462-9678-b880db8cf74a',\n",
       " 'Jim Halpert': '9b8a54c1-fd71-4def-87cf-ebe6b2271ead',\n",
       " 'Dwight Schrute': '9b8a54c3-0216-4aa0-87ce-019353b76180',\n",
       " 'Pam Beesly': '9b8a54c3-f7d7-4096-b07b-83301566dcd2',\n",
       " 'Ryan Howard': '9b8a54c4-dd1c-48ec-b9eb-c790ec776f02',\n",
       " 'Andy Bernard': '9b8a54c5-bc62-4f15-9ad3-9cafff178b8d',\n",
       " 'Kevin Malone': '9b8a54c6-a050-4a65-b1a2-4e18ee1f80cb',\n",
       " 'Oscar Martinez': '9b8a54c7-84fd-4c87-a7f8-677e2de988e2',\n",
       " 'Angela Martin': '9b8a54c8-6027-4c6d-9825-18c21454e354',\n",
       " 'Stanley Hudson': '9b8a54c9-433d-409b-8265-a1011ef7d86a',\n",
       " 'Phyllis Vance': '9b8a54ca-2ca6-4e41-a7a0-c65ac0513f77',\n",
       " 'Meredith Palmer': '9b8a54cb-1139-4589-bde8-5c842d36af0e',\n",
       " 'Creed Bratton': '9b8a54cb-f180-40d5-8c94-fc3f90f6d946',\n",
       " 'Kelly Kapoor': '9b8a54cc-cf33-408c-91c9-dc1def26c0be',\n",
       " 'Toby Flenderson': '9b8a54cd-ab55-41a8-b0ff-ca1b4e37a5df'}"
      ]
     },
     "execution_count": 14,
     "metadata": {},
     "output_type": "execute_result"
    }
   ],
   "source": [
    "# You can take a look at the group_id and user_ids\n",
    "print(\"Group ID is the UUID for the group created by the course_setup helper function\")\n",
    "print(dunder_mifflin_group_id)\n",
    "print(\n",
    "    \"It also create a nice dictionary of user_id to user_name for the users added to the group.\"\n",
    ")\n",
    "user_ids"
   ]
  },
  {
   "cell_type": "markdown",
   "metadata": {},
   "source": [
    "Enough of buzy work, now let's create a new user object!\n",
    "\n",
    "Here is what User object required!\n",
    "\n",
    "```\n",
    "    def __init__(\n",
    "        self,\n",
    "        meta: ResourceMeta,\n",
    "        user_id: UUID,\n",
    "        displayName: Optional[str],\n",
    "        active: bool,\n",
    "        userName: str,\n",
    "        name: Optional[Name],\n",
    "        emails: Optional[Iterable[Email]],\n",
    "        groups: Optional[Iterable[ResourceRef]] = None,\n",
    "    ):\n",
    "```\n",
    "\n",
    "We can go over them one by one.\n"
   ]
  },
  {
   "cell_type": "markdown",
   "metadata": {},
   "source": [
    "The first thing we need is some meta data!\n",
    "ResourceMeta does provide create_meta function to create THE meta\n",
    "\n",
    "```\n",
    "def create_meta(resource_type: ResourceType, location: str) -> \"ResourceMeta\":\n",
    "```\n",
    "\n",
    "It requires the resource type and the resource URL\n",
    "There are five different type resource that exist\n",
    "\n",
    "- User\n",
    "- Group\n",
    "- ServiceProviderConfig\n",
    "- ResourceType\n",
    "- Schema\n",
    "\n",
    "Looks like the one we need right now is `User` because duh, we are creating a user object.\n",
    "\n",
    "But what the hack is location?\n",
    "Resource Location is the endpoint where a resource could be re-fetched from the same service prodiver.\n",
    "Since we (Duo) is storing the user, the location would be `https://duo.com/Users/<uuid>`\n"
   ]
  },
  {
   "cell_type": "code",
   "execution_count": 16,
   "metadata": {},
   "outputs": [],
   "source": [
    "from sync_app.scim.resource import ResourceMeta\n",
    "\n",
    "# We would also need some uuid\n",
    "from uuid import uuid5, NAMESPACE_X500\n",
    "\n",
    "# uuid5 is used to generate a unique identifier from a name and a namespace\n",
    "# We would use the NAMESPACE_X500 as the namespace\n",
    "# So we could use DN as the name to generate the uuid\n",
    "\n",
    "uuid = uuid5(NAMESPACE_X500, \"uid=Charles.Miner,DC=dundermifflin,DC=com\")\n",
    "\n",
    "meta = ResourceMeta.create_meta(\n",
    "    \"User\",\n",
    "    \"https://duo.local/Users/{}\".format(\n",
    "        str(uuid),\n",
    "    ),\n",
    ")"
   ]
  },
  {
   "cell_type": "markdown",
   "metadata": {},
   "source": [
    "Looking back on User Object\n",
    "\n",
    "```\n",
    "    def __init__(\n",
    "        self,\n",
    "        meta: ResourceMeta,\n",
    "        user_id: UUID,\n",
    "        displayName: Optional[str],\n",
    "        active: bool,\n",
    "        userName: str,\n",
    "        name: Optional[Name],\n",
    "        emails: Optional[Iterable[Email]],\n",
    "        groups: Optional[Iterable[ResourceRef]] = None,\n",
    "    ):\n",
    "```\n",
    "\n",
    "We actually killed two bird with one stone since meta require uuid.\n",
    "`DisplayName` is The name of the User, suitable for display to end-users. The name SHOULD be the full name of the User being described, if known. So it should be like `Charles Miner`\n",
    "`active` is A Boolean value indicating the User's administrative status. So `True` should be it.\n",
    "`userName` is Unique identifier for the User, typically used by the user to directly authenticate to the service provider. Each User MUST include a non-empty userName value. This identifier MUST be unique across the service provider's entire set of Users. REQUIRED. So `cminer` should be fine.\n",
    "\n",
    "`Name` is a werid one, because it contain some sub attribute.\n",
    "`Name` Object looks like this, it's all optional but we fill familyName and givenName easily.\n",
    "\n",
    "```\n",
    "@dataclass\n",
    "class Name:\n",
    "    formatted: Optional[str] = None\n",
    "    familyName: Optional[str] = None\n",
    "    givenName: Optional[str] = None\n",
    "```\n",
    "\n",
    "`emails` is also a object that contain subattribute.\n",
    "\n",
    "```\n",
    "@dataclass\n",
    "class Email:\n",
    "    value: Optional[str] = None\n",
    "    type: Optional[str] = None\n",
    "    primary: Optional[bool] = None\n",
    "    display: Optional[str] = None\n",
    "```\n",
    "\n",
    "`value` is email address\n",
    "`type` is for work/home/other/etc\n",
    "`primary` is if the email is the preferred one.\n",
    "`display` is the the thing make least sense, so we will skip that for now.\n",
    "\n",
    "`groups` is use set the group for the user, for now we are going to use the exist Dunder Mifflin Group!\n"
   ]
  },
  {
   "cell_type": "code",
   "execution_count": 17,
   "metadata": {},
   "outputs": [
    {
     "data": {
      "text/plain": [
       "{'schemas': ['urn:ietf:params:scim:schemas:core:2.0:User'],\n",
       " 'meta': {'resourceType': 'User',\n",
       "  'create': '2024-03-11T19:13:16+00:00',\n",
       "  'lastModified': '2024-03-11T19:13:16+00:00',\n",
       "  'location': 'https://api.scim.dev/scim/v2/Users/9b8a5558-5558-41ce-a20c-f425207f4471'},\n",
       " 'id': '9b8a5558-5558-41ce-a20c-f425207f4471',\n",
       " 'active': True,\n",
       " 'userName': 'cminer',\n",
       " 'emails': [{'value': 'Charles.Miner@dundermifflin.com',\n",
       "   'type': 'other',\n",
       "   'primary': True,\n",
       "   'display': None},\n",
       "  {'value': 'Charles.Miner@dundermifflin.com',\n",
       "   'type': 'work',\n",
       "   'primary': True,\n",
       "   'display': None}],\n",
       " 'name': {'formatted': 'Charles Miner',\n",
       "  'familyName': 'Miner',\n",
       "  'givenName': 'Charles'}}"
      ]
     },
     "execution_count": 17,
     "metadata": {},
     "output_type": "execute_result"
    }
   ],
   "source": [
    "# Now let's create a user!\n",
    "from sync_app.scim.user import User, Name, Email\n",
    "from sync_app.scim.resource import ResourceRef\n",
    "\n",
    "cminer = User(\n",
    "    meta=meta,\n",
    "    user_id=uuid,\n",
    "    displayName=\"Charles.Miner\",\n",
    "    active=True,\n",
    "    userName=\"cminer\",\n",
    "    name=Name(formatted=\"Charles Miner\", familyName=\"Miner\", givenName=\"Charles\"),\n",
    "    emails=[\n",
    "        Email(\n",
    "            value=\"Charles.Miner@dundermifflin.com\",\n",
    "            type=\"work\",\n",
    "            primary=True,\n",
    "        )\n",
    "    ],\n",
    "    groups=[\n",
    "        ResourceRef(\n",
    "            ref=\"https://api.scim.dev/scim/v2/Group/{}\".format(dunder_mifflin_group_id),\n",
    "            value=dunder_mifflin_group_id,\n",
    "            display=\"Dunder Mifflin\",\n",
    "        )\n",
    "    ],\n",
    ")\n",
    "\n",
    "# Now we can try to push the user to the server!\n",
    "response = scim_dev_client.create_user(cminer)\n",
    "response.to_dict()"
   ]
  },
  {
   "cell_type": "code",
   "execution_count": 19,
   "metadata": {},
   "outputs": [
    {
     "data": {
      "text/plain": [
       "{'Micheal Scott': '9b8a54c1-182b-4462-9678-b880db8cf74a',\n",
       " 'Jim Halpert': '9b8a54c1-fd71-4def-87cf-ebe6b2271ead',\n",
       " 'Dwight Schrute': '9b8a54c3-0216-4aa0-87ce-019353b76180',\n",
       " 'Pam Beesly': '9b8a54c3-f7d7-4096-b07b-83301566dcd2',\n",
       " 'Ryan Howard': '9b8a54c4-dd1c-48ec-b9eb-c790ec776f02',\n",
       " 'Andy Bernard': '9b8a54c5-bc62-4f15-9ad3-9cafff178b8d',\n",
       " 'Kevin Malone': '9b8a54c6-a050-4a65-b1a2-4e18ee1f80cb',\n",
       " 'Oscar Martinez': '9b8a54c7-84fd-4c87-a7f8-677e2de988e2',\n",
       " 'Angela Martin': '9b8a54c8-6027-4c6d-9825-18c21454e354',\n",
       " 'Stanley Hudson': '9b8a54c9-433d-409b-8265-a1011ef7d86a',\n",
       " 'Phyllis Vance': '9b8a54ca-2ca6-4e41-a7a0-c65ac0513f77',\n",
       " 'Meredith Palmer': '9b8a54cb-1139-4589-bde8-5c842d36af0e',\n",
       " 'Creed Bratton': '9b8a54cb-f180-40d5-8c94-fc3f90f6d946',\n",
       " 'Kelly Kapoor': '9b8a54cc-cf33-408c-91c9-dc1def26c0be',\n",
       " 'Toby Flenderson': '9b8a54cd-ab55-41a8-b0ff-ca1b4e37a5df',\n",
       " 'Charles.Miner': '9b8a5558-5558-41ce-a20c-f425207f4471'}"
      ]
     },
     "execution_count": 19,
     "metadata": {},
     "output_type": "execute_result"
    }
   ],
   "source": [
    "# We should also keep track of the newly created user to our user_ids dictionary\n",
    "user_ids[\"Charles.Miner\"] = response.to_dict()[\"id\"]\n",
    "user_ids"
   ]
  },
  {
   "cell_type": "markdown",
   "metadata": {},
   "source": [
    "Now we have Charles in the system, Charles the new VP finally able to access his new laptop and all customer information for the first day!\n"
   ]
  },
  {
   "cell_type": "markdown",
   "metadata": {},
   "source": [
    "Even Micheal had good time with Charles in the beginning, the tension between Micheal and Charles is so thich you can pratical cut it with a butter knife.\n",
    "\n",
    "This result Micheal put his 2 week notice by the end of day. Micheal approved multiple Dunder Mifflin employee to join Micheal to his new paper company!\n"
   ]
  },
  {
   "cell_type": "markdown",
   "metadata": {},
   "source": [
    "After goofy around for 2 week, the final day at Dunder Mifflin for Micheal has arrived. There is no one willing to quit the job at Dunder Mifflin and join Micheal for his new adventure.\n"
   ]
  },
  {
   "cell_type": "markdown",
   "metadata": {},
   "source": [
    "Let's remove Micheal from the Dunder Mifflin group, so he can no long access inportant company secrets.\n"
   ]
  },
  {
   "cell_type": "code",
   "execution_count": 20,
   "metadata": {},
   "outputs": [
    {
     "data": {
      "text/plain": [
       "{'schemas': ['urn:ietf:params:scim:schemas:core:2.0:User'],\n",
       " 'meta': {'resourceType': 'User',\n",
       "  'create': '2024-03-11T19:11:37+00:00',\n",
       "  'lastModified': '2024-03-11T19:13:39+00:00',\n",
       "  'location': 'https://api.scim.dev/scim/v2/Users/9b8a54c1-182b-4462-9678-b880db8cf74a'},\n",
       " 'id': '9b8a54c1-182b-4462-9678-b880db8cf74a',\n",
       " 'active': False,\n",
       " 'userName': 'mscott',\n",
       " 'emails': [{'value': 'micheal.scott@dundermifflin.com',\n",
       "   'type': 'other',\n",
       "   'primary': True,\n",
       "   'display': None},\n",
       "  {'value': 'micheal.scott@dundermifflin.com',\n",
       "   'type': 'work',\n",
       "   'primary': True,\n",
       "   'display': None}],\n",
       " 'name': {'formatted': None, 'familyName': 'Scott', 'givenName': 'Micheal'}}"
      ]
     },
     "execution_count": 20,
     "metadata": {},
     "output_type": "execute_result"
    }
   ],
   "source": [
    "# Lets first deactive Micheal's status\n",
    "from sync_app.scim.patchop import PatchOp, Operation\n",
    "\n",
    "deactive_patch_op = PatchOp(\n",
    "    operations=[Operation(op=\"replace\", path=\"active\", value=False)]\n",
    ")\n",
    "\n",
    "response = scim_dev_client.update_user(\n",
    "    id=user_ids[\"Micheal Scott\"], ops=deactive_patch_op\n",
    ")\n",
    "response.to_dict()"
   ]
  },
  {
   "cell_type": "code",
   "execution_count": 21,
   "metadata": {},
   "outputs": [
    {
     "data": {
      "text/plain": [
       "{'schemas': ['urn:ietf:params:scim:schemas:core:2.0:Group'],\n",
       " 'meta': {'resourceType': 'Group',\n",
       "  'create': '2024-03-11T19:11:36+00:00',\n",
       "  'lastModified': '2024-03-11T19:11:36+00:00',\n",
       "  'location': 'https://api.scim.dev/scim/v2/Groups/9b8a54c0-3a94-4c6a-a089-359dd95f9c67'},\n",
       " 'id': '9b8a54c0-3a94-4c6a-a089-359dd95f9c67',\n",
       " 'displayName': 'Dunder Mifflin',\n",
       " 'name': 'Dunder Mifflin'}"
      ]
     },
     "execution_count": 21,
     "metadata": {},
     "output_type": "execute_result"
    }
   ],
   "source": [
    "# To remove user from group we need to make a patch call to the group API\n",
    "# The API take a patch ops json object. So lets make that first\n",
    "from sync_app.scim.patchop import PatchOp, Operation\n",
    "\n",
    "remove_patch_op = PatchOp(\n",
    "    operations=[Operation(op=\"remove\", path=\"members\", value=user_ids[\"Micheal Scott\"])]\n",
    ")\n",
    "\n",
    "response = scim_dev_client.update_group(\n",
    "    id=dunder_mifflin_group_id,\n",
    "    ops=remove_patch_op,\n",
    ")\n",
    "\n",
    "response.to_dict()"
   ]
  },
  {
   "cell_type": "markdown",
   "metadata": {},
   "source": [
    "> Confidence-- it's the food of the wise man, but the liquor of the fool. --Vikram\n"
   ]
  },
  {
   "cell_type": "markdown",
   "metadata": {},
   "source": [
    "Oh no, Micheal Scott Paper Company just started.\n",
    "We need to do some scim work to keep the scim record up to dates.\n",
    "Here are list of things we need to.\n",
    "\n",
    "- Create a new group called Micheal Scott Paper Company.\n",
    "- Add Micheal, Pam, Ryan to the new Group.\n",
    "- Deactive Pam from Dunder Mifflin group since she is no long working for Dunder Mifflin.\n"
   ]
  },
  {
   "cell_type": "code",
   "execution_count": 23,
   "metadata": {},
   "outputs": [
    {
     "data": {
      "text/plain": [
       "{'schemas': ['urn:ietf:params:scim:schemas:core:2.0:Group'],\n",
       " 'meta': {'resourceType': 'Group',\n",
       "  'create': '2024-03-11T19:15:44+00:00',\n",
       "  'lastModified': '2024-03-11T19:15:44+00:00',\n",
       "  'location': 'https://api.scim.dev/scim/v2/Groups/9b8a563a-3d17-4f36-8f4c-9c33649a7006'},\n",
       " 'id': '9b8a563a-3d17-4f36-8f4c-9c33649a7006',\n",
       " 'displayName': 'Micheal Scott Paper Company',\n",
       " 'name': 'Micheal Scott Paper Company'}"
      ]
     },
     "execution_count": 23,
     "metadata": {},
     "output_type": "execute_result"
    }
   ],
   "source": [
    "# Similar to before, this block of code is one time use only.\n",
    "# If you want to run this code again, you should delete the group first.\n",
    "#\n",
    "# scim_dev_client.delete_group(\"9b8a1233-446e-4b74-8693-e76543357fa7\")\n",
    "#\n",
    "\n",
    "# Create a new group\n",
    "from sync_app.scim.group import Group\n",
    "from sync_app.scim.resource import ResourceMeta\n",
    "from uuid import uuid5, NAMESPACE_X500\n",
    "\n",
    "micheal_scott_paper_company = Group(\n",
    "    displayName=\"Micheal Scott Paper Company\",\n",
    "    group_id=uuid5(NAMESPACE_X500, \"cn=MichealScott,DC=PaperCompany,DC=com\"),\n",
    "    meta=ResourceMeta.create_meta(\n",
    "        \"Group\",\n",
    "        \"https://duo.local/Groups/{}\".format(\n",
    "            uuid5(NAMESPACE_X500, \"cn=MichealScott,DC=PaperCompany,DC=com\")\n",
    "        ),\n",
    "    ),\n",
    ")\n",
    "\n",
    "response = scim_dev_client.create_group(micheal_scott_paper_company)\n",
    "\n",
    "micheal_scott_paper_company_id = response.to_dict()[\"id\"]\n",
    "\n",
    "response.to_dict()"
   ]
  },
  {
   "cell_type": "code",
   "execution_count": 24,
   "metadata": {},
   "outputs": [
    {
     "data": {
      "text/plain": [
       "{'schemas': ['urn:ietf:params:scim:schemas:core:2.0:Group'],\n",
       " 'meta': {'resourceType': 'Group',\n",
       "  'create': '2024-03-11T19:15:44+00:00',\n",
       "  'lastModified': '2024-03-11T19:15:44+00:00',\n",
       "  'location': 'https://api.scim.dev/scim/v2/Groups/9b8a563a-3d17-4f36-8f4c-9c33649a7006'},\n",
       " 'id': '9b8a563a-3d17-4f36-8f4c-9c33649a7006',\n",
       " 'displayName': 'Micheal Scott Paper Company',\n",
       " 'name': 'Micheal Scott Paper Company'}"
      ]
     },
     "execution_count": 24,
     "metadata": {},
     "output_type": "execute_result"
    }
   ],
   "source": [
    "# Now let's try to do multiple operations in one patch call\n",
    "# Let's create a patch operation to add all three people to the new group\n",
    "from sync_app.scim.patchop import PatchOp, Operation\n",
    "\n",
    "add_three_peope_op = PatchOp(\n",
    "    operations=[\n",
    "        Operation(\n",
    "            op=\"add\",\n",
    "            path=\"members\",\n",
    "            value=[\n",
    "                {\"value\": user_ids[\"Micheal Scott\"]},\n",
    "                {\"value\": user_ids[\"Pam Beesly\"]},\n",
    "                {\"value\": user_ids[\"Ryan Howard\"]},\n",
    "            ],\n",
    "        )\n",
    "    ]\n",
    ")\n",
    "\n",
    "response = scim_dev_client.update_group(\n",
    "    id=micheal_scott_paper_company_id,\n",
    "    ops=add_three_peope_op,\n",
    ")\n",
    "\n",
    "response.to_dict()"
   ]
  },
  {
   "cell_type": "code",
   "execution_count": 25,
   "metadata": {},
   "outputs": [
    {
     "data": {
      "text/plain": [
       "{'schemas': ['urn:ietf:params:scim:schemas:core:2.0:Group'],\n",
       " 'meta': {'resourceType': 'Group',\n",
       "  'create': '2024-03-11T19:11:36+00:00',\n",
       "  'lastModified': '2024-03-11T19:11:36+00:00',\n",
       "  'location': 'https://api.scim.dev/scim/v2/Groups/9b8a54c0-3a94-4c6a-a089-359dd95f9c67'},\n",
       " 'id': '9b8a54c0-3a94-4c6a-a089-359dd95f9c67',\n",
       " 'displayName': 'Dunder Mifflin',\n",
       " 'name': 'Dunder Mifflin'}"
      ]
     },
     "execution_count": 25,
     "metadata": {},
     "output_type": "execute_result"
    }
   ],
   "source": [
    "# Now let's deactive Pam from dunder mifflin group\n",
    "# We have done the similar thing for Micheal Scott before.\n",
    "from sync_app.scim.patchop import PatchOp, Operation\n",
    "\n",
    "remove_patch_op = PatchOp(\n",
    "    operations=[\n",
    "        Operation(op=\"remove\", path=\"members\", value=user_ids[\"Pam Beesly\"]),\n",
    "        Operation(op=\"remove\", path=\"members\", value=user_ids[\"Ryan Howard\"]),\n",
    "    ]\n",
    ")\n",
    "\n",
    "response = scim_dev_client.update_group(\n",
    "    id=dunder_mifflin_group_id,\n",
    "    ops=remove_patch_op,\n",
    ")\n",
    "\n",
    "response.to_dict()"
   ]
  },
  {
   "cell_type": "markdown",
   "metadata": {},
   "source": [
    "Finally Let's try something new inbound calls.\n",
    "\n",
    "We already moved all three Micheal Scott Paper Company Employee to their own group. Let's try to use scim filter to get their group information!\n"
   ]
  },
  {
   "cell_type": "code",
   "execution_count": 27,
   "metadata": {},
   "outputs": [
    {
     "data": {
      "text/plain": [
       "{'schemas': ['urn:ietf:params:scim:schemas:core:2.0:Group'],\n",
       " 'meta': {'resourceType': 'Group',\n",
       "  'create': '2024-03-11T19:11:36+00:00',\n",
       "  'lastModified': '2024-03-11T19:11:36+00:00',\n",
       "  'location': 'https://api.scim.dev/scim/v2/Groups/9b8a54c0-3a94-4c6a-a089-359dd95f9c67'},\n",
       " 'id': '9b8a54c0-3a94-4c6a-a089-359dd95f9c67',\n",
       " 'displayName': 'Dunder Mifflin',\n",
       " 'name': 'Dunder Mifflin'}"
      ]
     },
     "execution_count": 27,
     "metadata": {},
     "output_type": "execute_result"
    }
   ],
   "source": [
    "# The esiast way to get a group or user is to use the get_user or get_group method along with the id\n",
    "\n",
    "# For example, this is how you get the original Dunder Mifflin group\n",
    "\n",
    "response = scim_dev_client.get_group(dunder_mifflin_group_id)\n",
    "\n",
    "response.to_dict()"
   ]
  },
  {
   "cell_type": "code",
   "execution_count": 28,
   "metadata": {},
   "outputs": [
    {
     "data": {
      "text/plain": [
       "{'schemas': ['urn:ietf:params:scim:api:messages:2.0:ListResponse'],\n",
       " 'totalResults': 1,\n",
       " 'Resources': [{'schemas': ['urn:ietf:params:scim:schemas:core:2.0:Group'],\n",
       "   'meta': {'resourceType': 'Group',\n",
       "    'create': '2024-03-11T19:11:36+00:00',\n",
       "    'lastModified': '2024-03-11T19:11:36+00:00',\n",
       "    'location': 'https://api.scim.dev/scim/v2/Groups/9b8a54c0-3a94-4c6a-a089-359dd95f9c67'},\n",
       "   'id': '9b8a54c0-3a94-4c6a-a089-359dd95f9c67',\n",
       "   'displayName': 'Dunder Mifflin',\n",
       "   'name': 'Dunder Mifflin'}],\n",
       " 'itemsPerPage': 1,\n",
       " 'startIndex': 1}"
      ]
     },
     "execution_count": 28,
     "metadata": {},
     "output_type": "execute_result"
    }
   ],
   "source": [
    "# Now let's try to get the user we just created but with filter.\n",
    "\n",
    "# First we need to create a new filter\n",
    "from sync_app.client import Filter\n",
    "\n",
    "filter = Filter(filter='displayName eq \"Dunder Mifflin\"')\n",
    "response = scim_dev_client.get_groups(filter=filter)\n",
    "\n",
    "response.to_dict()"
   ]
  },
  {
   "cell_type": "code",
   "execution_count": 29,
   "metadata": {},
   "outputs": [
    {
     "data": {
      "text/plain": [
       "{'schemas': ['urn:ietf:params:scim:api:messages:2.0:ListResponse'],\n",
       " 'totalResults': 3,\n",
       " 'Resources': [{'schemas': ['urn:ietf:params:scim:schemas:core:2.0:User'],\n",
       "   'meta': {'resourceType': 'User',\n",
       "    'create': '2024-03-11T19:11:39+00:00',\n",
       "    'lastModified': '2024-03-11T19:11:39+00:00',\n",
       "    'location': 'https://api.scim.dev/scim/v2/Users/9b8a54c4-dd1c-48ec-b9eb-c790ec776f02'},\n",
       "   'id': '9b8a54c4-dd1c-48ec-b9eb-c790ec776f02',\n",
       "   'active': True,\n",
       "   'userName': 'rhoward',\n",
       "   'emails': [{'value': 'ryan.howard@dundermifflin.com',\n",
       "     'type': 'other',\n",
       "     'primary': True,\n",
       "     'display': None},\n",
       "    {'value': 'ryan.howard@dundermifflin.com',\n",
       "     'type': 'work',\n",
       "     'primary': True,\n",
       "     'display': None}],\n",
       "   'name': {'formatted': None, 'familyName': 'Howard', 'givenName': 'Ryan'}},\n",
       "  {'schemas': ['urn:ietf:params:scim:schemas:core:2.0:User'],\n",
       "   'meta': {'resourceType': 'User',\n",
       "    'create': '2024-03-11T19:11:39+00:00',\n",
       "    'lastModified': '2024-03-11T19:11:39+00:00',\n",
       "    'location': 'https://api.scim.dev/scim/v2/Users/9b8a54c3-f7d7-4096-b07b-83301566dcd2'},\n",
       "   'id': '9b8a54c3-f7d7-4096-b07b-83301566dcd2',\n",
       "   'active': True,\n",
       "   'userName': 'pbeesly',\n",
       "   'emails': [{'value': 'pam.beesly@dundermifflin.com',\n",
       "     'type': 'other',\n",
       "     'primary': True,\n",
       "     'display': None},\n",
       "    {'value': 'pam.beesly@dundermifflin.com',\n",
       "     'type': 'work',\n",
       "     'primary': True,\n",
       "     'display': None}],\n",
       "   'name': {'formatted': None, 'familyName': 'Beesly', 'givenName': 'Pam'}},\n",
       "  {'schemas': ['urn:ietf:params:scim:schemas:core:2.0:User'],\n",
       "   'meta': {'resourceType': 'User',\n",
       "    'create': '2024-03-11T19:11:37+00:00',\n",
       "    'lastModified': '2024-03-11T19:13:39+00:00',\n",
       "    'location': 'https://api.scim.dev/scim/v2/Users/9b8a54c1-182b-4462-9678-b880db8cf74a'},\n",
       "   'id': '9b8a54c1-182b-4462-9678-b880db8cf74a',\n",
       "   'active': False,\n",
       "   'userName': 'mscott',\n",
       "   'emails': [{'value': 'micheal.scott@dundermifflin.com',\n",
       "     'type': 'other',\n",
       "     'primary': True,\n",
       "     'display': None},\n",
       "    {'value': 'micheal.scott@dundermifflin.com',\n",
       "     'type': 'work',\n",
       "     'primary': True,\n",
       "     'display': None}],\n",
       "   'name': {'formatted': None,\n",
       "    'familyName': 'Scott',\n",
       "    'givenName': 'Micheal'}}],\n",
       " 'itemsPerPage': 3,\n",
       " 'startIndex': 1}"
      ]
     },
     "execution_count": 29,
     "metadata": {},
     "output_type": "execute_result"
    }
   ],
   "source": [
    "# Let's get all users that under Micheal Scott Paper Company!\n",
    "\n",
    "from sync_app.client import Filter\n",
    "\n",
    "filter = Filter(filter='groups.value eq \"{}\"'.format(micheal_scott_paper_company_id))\n",
    "response = scim_dev_client.get_users(filter=filter)\n",
    "response.to_dict()"
   ]
  },
  {
   "cell_type": "markdown",
   "metadata": {},
   "source": [
    "Looks like we also should update their emails! Let's do that next.\n"
   ]
  },
  {
   "cell_type": "code",
   "execution_count": 30,
   "metadata": {},
   "outputs": [
    {
     "data": {
      "text/plain": [
       "{'schemas': ['urn:ietf:params:scim:schemas:core:2.0:User'],\n",
       " 'meta': {'resourceType': 'User',\n",
       "  'create': '2024-03-11T19:11:37+00:00',\n",
       "  'lastModified': '2024-03-11T19:16:22+00:00',\n",
       "  'location': 'https://api.scim.dev/scim/v2/Users/9b8a54c1-182b-4462-9678-b880db8cf74a'},\n",
       " 'id': '9b8a54c1-182b-4462-9678-b880db8cf74a',\n",
       " 'active': False,\n",
       " 'userName': 'mscott',\n",
       " 'emails': [{'value': 'micheal.scott@michealscott.com',\n",
       "   'type': 'other',\n",
       "   'primary': True,\n",
       "   'display': None},\n",
       "  {'value': 'micheal.scott@michealscott.com',\n",
       "   'type': 'work',\n",
       "   'primary': True,\n",
       "   'display': None}],\n",
       " 'name': {'formatted': None, 'familyName': 'Scott', 'givenName': 'Micheal'}}"
      ]
     },
     "execution_count": 30,
     "metadata": {},
     "output_type": "execute_result"
    }
   ],
   "source": [
    "from sync_app.scim.patchop import PatchOp, Operation\n",
    "\n",
    "update_patch_op = PatchOp(\n",
    "    operations=[\n",
    "        Operation(\n",
    "            op=\"replace\", path=\"emails.value\", value=\"micheal.scott@michealscott.com\"\n",
    "        ),\n",
    "    ]\n",
    ")\n",
    "\n",
    "response = scim_dev_client.update_user(\n",
    "    id=user_ids[\"Micheal Scott\"],\n",
    "    ops=update_patch_op,\n",
    ")\n",
    "\n",
    "response.to_dict()"
   ]
  },
  {
   "cell_type": "code",
   "execution_count": 31,
   "metadata": {},
   "outputs": [
    {
     "data": {
      "text/plain": [
       "{'schemas': ['urn:ietf:params:scim:schemas:core:2.0:User'],\n",
       " 'meta': {'resourceType': 'User',\n",
       "  'create': '2024-03-11T19:11:39+00:00',\n",
       "  'lastModified': '2024-03-11T19:16:24+00:00',\n",
       "  'location': 'https://api.scim.dev/scim/v2/Users/9b8a54c3-f7d7-4096-b07b-83301566dcd2'},\n",
       " 'id': '9b8a54c3-f7d7-4096-b07b-83301566dcd2',\n",
       " 'active': True,\n",
       " 'userName': 'pbeesly',\n",
       " 'emails': [{'value': 'pam.beesly@michealscott.com',\n",
       "   'type': 'other',\n",
       "   'primary': True,\n",
       "   'display': None},\n",
       "  {'value': 'pam.beesly@michealscott.com',\n",
       "   'type': 'work',\n",
       "   'primary': True,\n",
       "   'display': None}],\n",
       " 'name': {'formatted': None, 'familyName': 'Beesly', 'givenName': 'Pam'}}"
      ]
     },
     "execution_count": 31,
     "metadata": {},
     "output_type": "execute_result"
    }
   ],
   "source": [
    "from sync_app.scim.patchop import PatchOp, Operation\n",
    "\n",
    "update_patch_op = PatchOp(\n",
    "    operations=[\n",
    "        Operation(\n",
    "            op=\"replace\", path=\"emails.value\", value=\"pam.beesly@michealscott.com\"\n",
    "        ),\n",
    "    ]\n",
    ")\n",
    "\n",
    "response = scim_dev_client.update_user(\n",
    "    id=user_ids[\"Pam Beesly\"],\n",
    "    ops=update_patch_op,\n",
    ")\n",
    "\n",
    "response.to_dict()"
   ]
  },
  {
   "cell_type": "code",
   "execution_count": 32,
   "metadata": {},
   "outputs": [
    {
     "data": {
      "text/plain": [
       "{'schemas': ['urn:ietf:params:scim:schemas:core:2.0:User'],\n",
       " 'meta': {'resourceType': 'User',\n",
       "  'create': '2024-03-11T19:11:39+00:00',\n",
       "  'lastModified': '2024-03-11T19:16:26+00:00',\n",
       "  'location': 'https://api.scim.dev/scim/v2/Users/9b8a54c4-dd1c-48ec-b9eb-c790ec776f02'},\n",
       " 'id': '9b8a54c4-dd1c-48ec-b9eb-c790ec776f02',\n",
       " 'active': True,\n",
       " 'userName': 'rhoward',\n",
       " 'emails': [{'value': 'ryan.howard@michealscott.com',\n",
       "   'type': 'other',\n",
       "   'primary': True,\n",
       "   'display': None},\n",
       "  {'value': 'ryan.howard@michealscott.com',\n",
       "   'type': 'work',\n",
       "   'primary': True,\n",
       "   'display': None}],\n",
       " 'name': {'formatted': None, 'familyName': 'Howard', 'givenName': 'Ryan'}}"
      ]
     },
     "execution_count": 32,
     "metadata": {},
     "output_type": "execute_result"
    }
   ],
   "source": [
    "from sync_app.scim.patchop import PatchOp, Operation\n",
    "\n",
    "update_patch_op = PatchOp(\n",
    "    operations=[\n",
    "        Operation(\n",
    "            op=\"replace\", path=\"emails.value\", value=\"ryan.howard@michealscott.com\"\n",
    "        ),\n",
    "    ]\n",
    ")\n",
    "\n",
    "response = scim_dev_client.update_user(\n",
    "    id=user_ids[\"Ryan Howard\"],\n",
    "    ops=update_patch_op,\n",
    ")\n",
    "\n",
    "response.to_dict()"
   ]
  },
  {
   "cell_type": "markdown",
   "metadata": {},
   "source": [
    "WooHoo! Now our job is done! Feel free to try more operition!\n"
   ]
  }
 ],
 "metadata": {
  "kernelspec": {
   "display_name": "Python 3",
   "language": "python",
   "name": "python3"
  },
  "language_info": {
   "codemirror_mode": {
    "name": "ipython",
    "version": 3
   },
   "file_extension": ".py",
   "mimetype": "text/x-python",
   "name": "python",
   "nbconvert_exporter": "python",
   "pygments_lexer": "ipython3",
   "version": "3.11.7"
  }
 },
 "nbformat": 4,
 "nbformat_minor": 2
}
